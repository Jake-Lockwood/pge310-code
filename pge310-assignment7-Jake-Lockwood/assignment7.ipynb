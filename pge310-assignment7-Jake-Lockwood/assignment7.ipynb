{
 "cells": [
  {
   "cell_type": "markdown",
   "metadata": {},
   "source": [
    "# Problem 1\n",
    "\n",
    "Below is a template implementation of a class `Well`.  You should first implement the `__str__` member function for `Well` such that it returns a string formated to read:\n",
    "\n",
    "```python\n",
    "'Well type: <well_type>'\n",
    "```\n",
    "\n",
    "where `<well_type>` will later be replaced with a string that indicates the well type in derived classes (see examples below).\n",
    "\n",
    "Next *derive* a class called `VerticalWell` from `Well` that has an attribute `well_type = 'vertical'` and takes a positional argument `depth` at instantiation and assigns it to an attribute called `depth`.  Then implement a member function called `compute_wellbore_volume` that takes a positional argument `diameter` and using `diameter` and the attribute `depth`, computes the total volume of the wellbore.  See the follow examples for the expected usage of the class and member functions.  You should **not** reimplement the `__str__` function in `VerticalWell`.\n",
    "\n",
    "```python\n",
    "vertical_well = VerticalWell(depth = 5000)\n",
    "print(vertical_well)\n",
    "```\n",
    "\n",
    "will return \n",
    "\n",
    "```python\n",
    "'Well type: vertical'\n",
    "```\n",
    "\n",
    "Also, \n",
    "\n",
    "```python\n",
    "vertical_well.depth\n",
    "```\n",
    "\n",
    "will return\n",
    "\n",
    "```python\n",
    "5000\n",
    "```\n",
    "\n",
    "and\n",
    "\n",
    "```python\n",
    "vertical_well.compute_wellbore_volume(diameter = 0.5)\n",
    "```\n",
    "\n",
    "will return\n",
    "\n",
    "```python\n",
    "981.7477042468104\n",
    "```\n",
    "\n",
    "I have imported the constant `pi` from the Python `math` module.  You may use it in `compute_wellbore_volume` member functions."
   ]
  },
  {
   "cell_type": "code",
   "execution_count": 101,
   "metadata": {},
   "outputs": [],
   "source": [
    "from math import pi\n",
    "\n",
    "class Well():\n",
    "    \n",
    "    def __init__(self):\n",
    "        \n",
    "        self.well_type = None\n",
    "        \n",
    "    def __str__(self):\n",
    "        \n",
    "        return \"Well type: {}\".format(self.well_type)\n",
    "    \n",
    "    \n",
    "class VerticalWell(Well):\n",
    "    \n",
    "    def __init__(self, depth):\n",
    "        \n",
    "        self.well_type = \"vertical\"\n",
    "        self.depth = depth\n",
    "        \n",
    "    def compute_wellbore_volume(self, diameter):\n",
    "        \n",
    "        return (((diameter / 2) ** 2) * pi) * self.depth\n",
    "        "
   ]
  },
  {
   "cell_type": "code",
   "execution_count": 97,
   "metadata": {},
   "outputs": [],
   "source": [
    "vertical_well = VerticalWell(depth = 7000)"
   ]
  },
  {
   "cell_type": "code",
   "execution_count": 98,
   "metadata": {},
   "outputs": [
    {
     "name": "stdout",
     "output_type": "stream",
     "text": [
      "Well type: vertical\n"
     ]
    }
   ],
   "source": [
    "print(vertical_well)"
   ]
  },
  {
   "cell_type": "code",
   "execution_count": 99,
   "metadata": {},
   "outputs": [
    {
     "data": {
      "text/plain": [
       "7000"
      ]
     },
     "execution_count": 99,
     "metadata": {},
     "output_type": "execute_result"
    }
   ],
   "source": [
    "vertical_well.depth"
   ]
  },
  {
   "cell_type": "code",
   "execution_count": 100,
   "metadata": {},
   "outputs": [
    {
     "data": {
      "text/plain": [
       "1374.4467859455344"
      ]
     },
     "execution_count": 100,
     "metadata": {},
     "output_type": "execute_result"
    }
   ],
   "source": [
    "vertical_well.compute_wellbore_volume(diameter = 0.5)"
   ]
  },
  {
   "cell_type": "markdown",
   "metadata": {},
   "source": [
    "# Problem 2\n",
    "\n",
    "Next, derive another class from `Well` called `HorizontalWell` that assigns the attribute `well_type = 'horizontal'` and takes two positional arguments, `depth` and `length` (in that order), and assigns them to attributes called `depth` and `length`, respectively.\n",
    "Then implement a member function called `compute_wellbore_volume` that takes a positional argument `diameter` and using `diameter` and the attributes `depth` and `length`, computes the total volume of the wellbore.  Assume the total wellbore distance is `depth + length`.  See the follow examples for the expected usage of the class and member functions.  You should **not** reimplement the `__str__` function in `HorizontalWell`.\n",
    "\n",
    "\n",
    "```python\n",
    "horizontal_well = HorizontalWell(depth = 5000, length = 15000)\n",
    "print(horizontal_well)\n",
    "```\n",
    "\n",
    "will return \n",
    "\n",
    "```python\n",
    "'Well type: hortizontal'\n",
    "```\n",
    "\n",
    "Also, \n",
    "\n",
    "```python\n",
    "horizontal_well.depth\n",
    "```\n",
    "\n",
    "will return\n",
    "\n",
    "```python\n",
    "5000\n",
    "```\n",
    "\n",
    "and \n",
    "\n",
    "```python\n",
    "horizontal_well.length\n",
    "```\n",
    "\n",
    "will return\n",
    "\n",
    "```python\n",
    "15000\n",
    "```\n",
    "\n",
    "and\n",
    "\n",
    "```python\n",
    "horizontal_well.compute_wellbore_volume(diameter = 0.5)\n",
    "```\n",
    "\n",
    "will return\n",
    "\n",
    "```python\n",
    "3926.9908169872415\n",
    "```\n",
    "\n"
   ]
  },
  {
   "cell_type": "code",
   "execution_count": 108,
   "metadata": {},
   "outputs": [],
   "source": [
    "class HorizontalWell(Well):\n",
    "    \n",
    "    def __init__(self, depth = 5000, length = 15000):\n",
    "        \n",
    "        self.well_type = \"horizontal\"\n",
    "        self.depth = depth\n",
    "        self.length = length\n",
    "        \n",
    "    def compute_wellbore_volume(self, diameter):\n",
    "        \n",
    "        return ((diameter / 2) ** 2) * pi * (self.depth + self.length)"
   ]
  },
  {
   "cell_type": "code",
   "execution_count": 109,
   "metadata": {},
   "outputs": [],
   "source": [
    "horizontal_well = HorizontalWell()"
   ]
  },
  {
   "cell_type": "code",
   "execution_count": 106,
   "metadata": {},
   "outputs": [
    {
     "name": "stdout",
     "output_type": "stream",
     "text": [
      "Well type: horizontal\n"
     ]
    }
   ],
   "source": [
    "print(horizontal_well)"
   ]
  },
  {
   "cell_type": "code",
   "execution_count": 110,
   "metadata": {},
   "outputs": [
    {
     "data": {
      "text/plain": [
       "5000"
      ]
     },
     "execution_count": 110,
     "metadata": {},
     "output_type": "execute_result"
    }
   ],
   "source": [
    "horizontal_well.depth"
   ]
  },
  {
   "cell_type": "code",
   "execution_count": 111,
   "metadata": {},
   "outputs": [
    {
     "data": {
      "text/plain": [
       "15000"
      ]
     },
     "execution_count": 111,
     "metadata": {},
     "output_type": "execute_result"
    }
   ],
   "source": [
    "horizontal_well.length"
   ]
  },
  {
   "cell_type": "code",
   "execution_count": 112,
   "metadata": {},
   "outputs": [
    {
     "data": {
      "text/plain": [
       "3926.9908169872415"
      ]
     },
     "execution_count": 112,
     "metadata": {},
     "output_type": "execute_result"
    }
   ],
   "source": [
    "horizontal_well.compute_wellbore_volume(diameter = 0.5)"
   ]
  },
  {
   "cell_type": "code",
   "execution_count": null,
   "metadata": {},
   "outputs": [],
   "source": []
  }
 ],
 "metadata": {
  "kernelspec": {
   "display_name": "Python 3",
   "language": "python",
   "name": "python3"
  },
  "language_info": {
   "codemirror_mode": {
    "name": "ipython",
    "version": 3
   },
   "file_extension": ".py",
   "mimetype": "text/x-python",
   "name": "python",
   "nbconvert_exporter": "python",
   "pygments_lexer": "ipython3",
   "version": "3.6.5"
  }
 },
 "nbformat": 4,
 "nbformat_minor": 2
}

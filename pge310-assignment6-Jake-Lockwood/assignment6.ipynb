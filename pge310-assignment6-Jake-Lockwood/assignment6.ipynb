{
 "cells": [
  {
   "cell_type": "markdown",
   "metadata": {},
   "source": [
    "# Problem 1\n",
    "\n",
    "In the [video lecture on Python functions](https://youtu.be/-pGA4WGoaAQ) we discussed variable *positional* arguments that use the special syntax `*args` to identify them.  We can also have variable *keyword* arguments.  These utilize the special syntax of `**kwargs`.  The keyword arguments are passed into the function as a Python dictionary.  For example, a function with the signature:\n",
    "\n",
    "```python\n",
    "a_keyword_arg_function(**kwargs)\n",
    "```\n",
    "\n",
    "That is called with\n",
    "\n",
    "```python\n",
    "a_keyword_arg_function(a=1, b=2, c='three')\n",
    "```\n",
    "\n",
    "will have a variable available for use inside the function\n",
    "\n",
    "```python\n",
    "kwargs = {'a': 1, 'b': 2, 'c'='three'}\n",
    "```\n",
    "\n",
    "with this in mind, complete the function below that takes a `**kwarg` as an argument.  You can assume the values of the inputs will always be numbers. The function should multiply all the given values together and output a Python string that has exactly the following formatting. Shown as example function calls and outputs.\n",
    "\n",
    "```python\n",
    "multiply(a=1, b=2, c=3)\n",
    "```\n",
    "\n",
    "should return `'a * b * c = 6'`, and\n",
    "\n",
    "```python\n",
    "multiply(x=3, y=1)\n",
    "```\n",
    "\n",
    "should return `'x * y = 3'`."
   ]
  },
  {
   "cell_type": "code",
   "execution_count": 77,
   "metadata": {},
   "outputs": [],
   "source": [
    "def multiply(**kwargs):\n",
    "    total=1\n",
    "    string = ''\n",
    "    for i, (key, value) in enumerate(kwargs.items()):\n",
    "        \n",
    "        if i == 0:\n",
    "            string = '{}'.format(key)\n",
    "        else:\n",
    "            string += ' * {}'.format(key)\n",
    "    for value in kwargs.values():\n",
    "        total *= value\n",
    "    string+=' = '\n",
    "    return string + str(total)"
   ]
  },
  {
   "cell_type": "code",
   "execution_count": 43,
   "metadata": {},
   "outputs": [
    {
     "data": {
      "text/plain": [
       "'a * b * c = 6'"
      ]
     },
     "execution_count": 43,
     "metadata": {},
     "output_type": "execute_result"
    }
   ],
   "source": [
    "multiply(a=1, b=2, c=3)"
   ]
  },
  {
   "cell_type": "markdown",
   "metadata": {},
   "source": [
    "# Problem 2\n",
    "\n",
    "Complete the function below.  The function takes no arguments and returns a Python lambda function (yes, a function can return a function...) that implements the following mathematical operation\n",
    "\n",
    "$$\n",
    "x + y^{2}\n",
    "$$\n",
    "\n",
    "An example of how you'd call this funtion is\n",
    "\n",
    "```python\n",
    "f = create_lambda()\n",
    "```\n",
    "\n",
    "followed by a call to the returned function for testing\n",
    "\n",
    "```python\n",
    "f(x=1, y=2)\n",
    "```\n",
    "\n",
    "which would return `5`."
   ]
  },
  {
   "cell_type": "code",
   "execution_count": 73,
   "metadata": {},
   "outputs": [],
   "source": [
    "def create_lambda():\n",
    "    f = lambda x, y: x + y**2\n",
    "    return f"
   ]
  },
  {
   "cell_type": "code",
   "execution_count": 75,
   "metadata": {},
   "outputs": [],
   "source": [
    "f = create_lambda()"
   ]
  },
  {
   "cell_type": "code",
   "execution_count": 76,
   "metadata": {},
   "outputs": [
    {
     "data": {
      "text/plain": [
       "55"
      ]
     },
     "execution_count": 76,
     "metadata": {},
     "output_type": "execute_result"
    }
   ],
   "source": [
    "f(6,7)"
   ]
  },
  {
   "cell_type": "code",
   "execution_count": null,
   "metadata": {},
   "outputs": [],
   "source": []
  }
 ],
 "metadata": {
  "kernelspec": {
   "display_name": "Python 3",
   "language": "python",
   "name": "python3"
  },
  "language_info": {
   "codemirror_mode": {
    "name": "ipython",
    "version": 3
   },
   "file_extension": ".py",
   "mimetype": "text/x-python",
   "name": "python",
   "nbconvert_exporter": "python",
   "pygments_lexer": "ipython3",
   "version": "3.6.5"
  }
 },
 "nbformat": 4,
 "nbformat_minor": 2
}
